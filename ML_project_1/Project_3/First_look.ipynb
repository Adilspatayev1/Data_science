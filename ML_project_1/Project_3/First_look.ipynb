{
 "cells": [
  {
   "cell_type": "code",
   "execution_count": 43,
   "outputs": [],
   "source": [
    "import pandas as pd\n",
    "import numpy as np"
   ],
   "metadata": {
    "collapsed": false,
    "pycharm": {
     "name": "#%%\n"
    }
   }
  },
  {
   "cell_type": "code",
   "execution_count": 44,
   "outputs": [
    {
     "data": {
      "text/plain": "     Unnamed: 0         filename  length  chroma_stft_mean  chroma_stft_var  \\\n0             0  blues.00000.wav  661794          0.350088         0.088757   \n1             1  blues.00001.wav  661794          0.340914         0.094980   \n2             2  blues.00002.wav  661794          0.363637         0.085275   \n3             3  blues.00003.wav  661794          0.404785         0.093999   \n4             4  blues.00004.wav  661794          0.308526         0.087841   \n..          ...              ...     ...               ...              ...   \n994         995   rock.00095.wav  661794          0.352063         0.080487   \n995         996   rock.00096.wav  661794          0.398687         0.075086   \n996         997   rock.00097.wav  661794          0.432142         0.075268   \n997         998   rock.00098.wav  661794          0.362485         0.091506   \n998         999   rock.00099.wav  661794          0.358401         0.085884   \n\n     rms_mean   rms_var  spectral_centroid_mean  spectral_centroid_var  \\\n0    0.130228  0.002827             1784.165850          129774.064525   \n1    0.095948  0.002373             1530.176679          375850.073649   \n2    0.175570  0.002746             1552.811865          156467.643368   \n3    0.141093  0.006346             1070.106615          184355.942417   \n4    0.091529  0.002303             1835.004266          343399.939274   \n..        ...       ...                     ...                    ...   \n994  0.079486  0.000345             2008.149458          282174.689224   \n995  0.076458  0.000588             2006.843354          182114.709510   \n996  0.081651  0.000322             2077.526598          231657.968040   \n997  0.083860  0.001211             1398.699344          240318.731073   \n998  0.054454  0.000336             1609.795082          422203.216152   \n\n     spectral_bandwidth_mean  ...  mfcc17_mean  mfcc17_var  mfcc18_mean  \\\n0                2002.449060  ...    -1.690215   36.524071    -0.408979   \n1                2039.036516  ...    -0.731125   60.314529     0.295073   \n2                1747.702312  ...    -7.729093   47.639427    -1.816407   \n3                1596.412872  ...    -3.319597   50.206673     0.636965   \n4                1748.172116  ...    -5.454034   75.269707    -0.916874   \n..                       ...  ...          ...         ...          ...   \n994              2106.541053  ...   -13.289984   41.754955     2.484145   \n995              2068.942009  ...   -10.848309   39.395096     1.881229   \n996              1927.293153  ...   -12.845291   36.367264     3.440978   \n997              1818.450280  ...    -4.416050   43.583942     1.556207   \n998              1797.213044  ...    -7.069775   73.760391     0.028346   \n\n     mfcc18_var  mfcc19_mean  mfcc19_var  mfcc20_mean  mfcc20_var  label  fold  \n0     41.597103    -2.303523   55.062923     1.221291   46.936035  blues     0  \n1     48.120598    -0.283518   51.106190     0.531217   45.786282  blues     0  \n2     52.382141    -3.439720   46.639660    -2.231258   30.573025  blues     0  \n3     37.319130    -0.619121   37.259739    -3.407448   31.949339  blues     0  \n4     53.613918    -4.404827   62.910812   -11.703234   55.195160  blues     0  \n..          ...          ...         ...          ...         ...    ...   ...  \n994   36.778877    -6.713265   54.866825    -1.193787   49.950665   rock     9  \n995   32.010040    -7.461491   39.196327    -2.795338   31.773624   rock     9  \n996   36.001110   -12.588070   42.502201    -2.106337   29.865515   rock     9  \n997   34.331261    -5.041897   47.227180    -3.590644   41.299088   rock     9  \n998   76.504326    -2.025783   72.189316     1.155239   49.662510   rock     9  \n\n[999 rows x 62 columns]",
      "text/html": "<div>\n<style scoped>\n    .dataframe tbody tr th:only-of-type {\n        vertical-align: middle;\n    }\n\n    .dataframe tbody tr th {\n        vertical-align: top;\n    }\n\n    .dataframe thead th {\n        text-align: right;\n    }\n</style>\n<table border=\"1\" class=\"dataframe\">\n  <thead>\n    <tr style=\"text-align: right;\">\n      <th></th>\n      <th>Unnamed: 0</th>\n      <th>filename</th>\n      <th>length</th>\n      <th>chroma_stft_mean</th>\n      <th>chroma_stft_var</th>\n      <th>rms_mean</th>\n      <th>rms_var</th>\n      <th>spectral_centroid_mean</th>\n      <th>spectral_centroid_var</th>\n      <th>spectral_bandwidth_mean</th>\n      <th>...</th>\n      <th>mfcc17_mean</th>\n      <th>mfcc17_var</th>\n      <th>mfcc18_mean</th>\n      <th>mfcc18_var</th>\n      <th>mfcc19_mean</th>\n      <th>mfcc19_var</th>\n      <th>mfcc20_mean</th>\n      <th>mfcc20_var</th>\n      <th>label</th>\n      <th>fold</th>\n    </tr>\n  </thead>\n  <tbody>\n    <tr>\n      <th>0</th>\n      <td>0</td>\n      <td>blues.00000.wav</td>\n      <td>661794</td>\n      <td>0.350088</td>\n      <td>0.088757</td>\n      <td>0.130228</td>\n      <td>0.002827</td>\n      <td>1784.165850</td>\n      <td>129774.064525</td>\n      <td>2002.449060</td>\n      <td>...</td>\n      <td>-1.690215</td>\n      <td>36.524071</td>\n      <td>-0.408979</td>\n      <td>41.597103</td>\n      <td>-2.303523</td>\n      <td>55.062923</td>\n      <td>1.221291</td>\n      <td>46.936035</td>\n      <td>blues</td>\n      <td>0</td>\n    </tr>\n    <tr>\n      <th>1</th>\n      <td>1</td>\n      <td>blues.00001.wav</td>\n      <td>661794</td>\n      <td>0.340914</td>\n      <td>0.094980</td>\n      <td>0.095948</td>\n      <td>0.002373</td>\n      <td>1530.176679</td>\n      <td>375850.073649</td>\n      <td>2039.036516</td>\n      <td>...</td>\n      <td>-0.731125</td>\n      <td>60.314529</td>\n      <td>0.295073</td>\n      <td>48.120598</td>\n      <td>-0.283518</td>\n      <td>51.106190</td>\n      <td>0.531217</td>\n      <td>45.786282</td>\n      <td>blues</td>\n      <td>0</td>\n    </tr>\n    <tr>\n      <th>2</th>\n      <td>2</td>\n      <td>blues.00002.wav</td>\n      <td>661794</td>\n      <td>0.363637</td>\n      <td>0.085275</td>\n      <td>0.175570</td>\n      <td>0.002746</td>\n      <td>1552.811865</td>\n      <td>156467.643368</td>\n      <td>1747.702312</td>\n      <td>...</td>\n      <td>-7.729093</td>\n      <td>47.639427</td>\n      <td>-1.816407</td>\n      <td>52.382141</td>\n      <td>-3.439720</td>\n      <td>46.639660</td>\n      <td>-2.231258</td>\n      <td>30.573025</td>\n      <td>blues</td>\n      <td>0</td>\n    </tr>\n    <tr>\n      <th>3</th>\n      <td>3</td>\n      <td>blues.00003.wav</td>\n      <td>661794</td>\n      <td>0.404785</td>\n      <td>0.093999</td>\n      <td>0.141093</td>\n      <td>0.006346</td>\n      <td>1070.106615</td>\n      <td>184355.942417</td>\n      <td>1596.412872</td>\n      <td>...</td>\n      <td>-3.319597</td>\n      <td>50.206673</td>\n      <td>0.636965</td>\n      <td>37.319130</td>\n      <td>-0.619121</td>\n      <td>37.259739</td>\n      <td>-3.407448</td>\n      <td>31.949339</td>\n      <td>blues</td>\n      <td>0</td>\n    </tr>\n    <tr>\n      <th>4</th>\n      <td>4</td>\n      <td>blues.00004.wav</td>\n      <td>661794</td>\n      <td>0.308526</td>\n      <td>0.087841</td>\n      <td>0.091529</td>\n      <td>0.002303</td>\n      <td>1835.004266</td>\n      <td>343399.939274</td>\n      <td>1748.172116</td>\n      <td>...</td>\n      <td>-5.454034</td>\n      <td>75.269707</td>\n      <td>-0.916874</td>\n      <td>53.613918</td>\n      <td>-4.404827</td>\n      <td>62.910812</td>\n      <td>-11.703234</td>\n      <td>55.195160</td>\n      <td>blues</td>\n      <td>0</td>\n    </tr>\n    <tr>\n      <th>...</th>\n      <td>...</td>\n      <td>...</td>\n      <td>...</td>\n      <td>...</td>\n      <td>...</td>\n      <td>...</td>\n      <td>...</td>\n      <td>...</td>\n      <td>...</td>\n      <td>...</td>\n      <td>...</td>\n      <td>...</td>\n      <td>...</td>\n      <td>...</td>\n      <td>...</td>\n      <td>...</td>\n      <td>...</td>\n      <td>...</td>\n      <td>...</td>\n      <td>...</td>\n      <td>...</td>\n    </tr>\n    <tr>\n      <th>994</th>\n      <td>995</td>\n      <td>rock.00095.wav</td>\n      <td>661794</td>\n      <td>0.352063</td>\n      <td>0.080487</td>\n      <td>0.079486</td>\n      <td>0.000345</td>\n      <td>2008.149458</td>\n      <td>282174.689224</td>\n      <td>2106.541053</td>\n      <td>...</td>\n      <td>-13.289984</td>\n      <td>41.754955</td>\n      <td>2.484145</td>\n      <td>36.778877</td>\n      <td>-6.713265</td>\n      <td>54.866825</td>\n      <td>-1.193787</td>\n      <td>49.950665</td>\n      <td>rock</td>\n      <td>9</td>\n    </tr>\n    <tr>\n      <th>995</th>\n      <td>996</td>\n      <td>rock.00096.wav</td>\n      <td>661794</td>\n      <td>0.398687</td>\n      <td>0.075086</td>\n      <td>0.076458</td>\n      <td>0.000588</td>\n      <td>2006.843354</td>\n      <td>182114.709510</td>\n      <td>2068.942009</td>\n      <td>...</td>\n      <td>-10.848309</td>\n      <td>39.395096</td>\n      <td>1.881229</td>\n      <td>32.010040</td>\n      <td>-7.461491</td>\n      <td>39.196327</td>\n      <td>-2.795338</td>\n      <td>31.773624</td>\n      <td>rock</td>\n      <td>9</td>\n    </tr>\n    <tr>\n      <th>996</th>\n      <td>997</td>\n      <td>rock.00097.wav</td>\n      <td>661794</td>\n      <td>0.432142</td>\n      <td>0.075268</td>\n      <td>0.081651</td>\n      <td>0.000322</td>\n      <td>2077.526598</td>\n      <td>231657.968040</td>\n      <td>1927.293153</td>\n      <td>...</td>\n      <td>-12.845291</td>\n      <td>36.367264</td>\n      <td>3.440978</td>\n      <td>36.001110</td>\n      <td>-12.588070</td>\n      <td>42.502201</td>\n      <td>-2.106337</td>\n      <td>29.865515</td>\n      <td>rock</td>\n      <td>9</td>\n    </tr>\n    <tr>\n      <th>997</th>\n      <td>998</td>\n      <td>rock.00098.wav</td>\n      <td>661794</td>\n      <td>0.362485</td>\n      <td>0.091506</td>\n      <td>0.083860</td>\n      <td>0.001211</td>\n      <td>1398.699344</td>\n      <td>240318.731073</td>\n      <td>1818.450280</td>\n      <td>...</td>\n      <td>-4.416050</td>\n      <td>43.583942</td>\n      <td>1.556207</td>\n      <td>34.331261</td>\n      <td>-5.041897</td>\n      <td>47.227180</td>\n      <td>-3.590644</td>\n      <td>41.299088</td>\n      <td>rock</td>\n      <td>9</td>\n    </tr>\n    <tr>\n      <th>998</th>\n      <td>999</td>\n      <td>rock.00099.wav</td>\n      <td>661794</td>\n      <td>0.358401</td>\n      <td>0.085884</td>\n      <td>0.054454</td>\n      <td>0.000336</td>\n      <td>1609.795082</td>\n      <td>422203.216152</td>\n      <td>1797.213044</td>\n      <td>...</td>\n      <td>-7.069775</td>\n      <td>73.760391</td>\n      <td>0.028346</td>\n      <td>76.504326</td>\n      <td>-2.025783</td>\n      <td>72.189316</td>\n      <td>1.155239</td>\n      <td>49.662510</td>\n      <td>rock</td>\n      <td>9</td>\n    </tr>\n  </tbody>\n</table>\n<p>999 rows × 62 columns</p>\n</div>"
     },
     "execution_count": 44,
     "metadata": {},
     "output_type": "execute_result"
    }
   ],
   "source": [
    "data = pd.read_csv('Data/new_features_300_sec.csv')\n",
    "data"
   ],
   "metadata": {
    "collapsed": false,
    "pycharm": {
     "name": "#%%\n"
    }
   }
  },
  {
   "cell_type": "code",
   "execution_count": 20,
   "outputs": [],
   "source": [
    "folds = []\n",
    "for row in data['label']:\n",
    "    if row == 'blues':\n",
    "        folds.append(0)\n",
    "    elif row == 'classical':\n",
    "        folds.append(1)\n",
    "    elif row == 'country':\n",
    "        folds.append(2)\n",
    "    elif row == 'disco':\n",
    "        folds.append(3)\n",
    "    elif row == 'hiphop':\n",
    "        folds.append(4)\n",
    "    elif row == 'jazz':\n",
    "        folds.append(5)\n",
    "    elif row == 'metal':\n",
    "        folds.append(6)\n",
    "    elif row == 'pop':\n",
    "        folds.append(7)\n",
    "    elif row == 'reggae':\n",
    "        folds.append(8)\n",
    "    elif row == 'rock':\n",
    "        folds.append(9)\n",
    "data['fold'] = folds"
   ],
   "metadata": {
    "collapsed": false,
    "pycharm": {
     "name": "#%%\n"
    }
   }
  },
  {
   "cell_type": "code",
   "execution_count": 21,
   "outputs": [
    {
     "data": {
      "text/plain": "             filename  length  chroma_stft_mean  chroma_stft_var  rms_mean  \\\n800  reggae.00000.wav  661794          0.329137         0.090313  0.094154   \n801  reggae.00001.wav  661794          0.348960         0.088220  0.082020   \n802  reggae.00002.wav  661794          0.378536         0.092250  0.092481   \n803  reggae.00003.wav  661794          0.391410         0.093633  0.094226   \n804  reggae.00004.wav  661794          0.401963         0.093053  0.101107   \n..                ...     ...               ...              ...       ...   \n895  reggae.00095.wav  661504          0.424284         0.080734  0.162340   \n896  reggae.00096.wav  661504          0.416339         0.095202  0.162230   \n897  reggae.00097.wav  661504          0.271977         0.087021  0.110746   \n898  reggae.00098.wav  661504          0.410039         0.088842  0.139203   \n899  reggae.00099.wav  661504          0.431106         0.081969  0.180177   \n\n      rms_var  spectral_centroid_mean  spectral_centroid_var  \\\n800  0.001773             2133.200382          276253.439506   \n801  0.001613             1638.907439          409140.440696   \n802  0.001832             1796.838299          427414.586884   \n803  0.002161             1923.341464          689480.351191   \n804  0.002732             2009.585992          491386.403091   \n..        ...                     ...                    ...   \n895  0.004120             2617.024683          509089.916872   \n896  0.005087             1629.799950          511839.383610   \n897  0.002601             2006.892211          305362.449901   \n898  0.002202             2026.298986          575184.204476   \n899  0.001482             2467.092360          454158.606877   \n\n     spectral_bandwidth_mean  spectral_bandwidth_var  ...  mfcc17_mean  \\\n800              2289.540104           130964.269614  ...    -9.199856   \n801              1995.201491           213841.434410  ...    -9.744484   \n802              2103.089979           152693.460470  ...    -3.206988   \n803              2107.911578           303982.233052  ...    -5.853744   \n804              2141.377602           179690.822659  ...    -3.370105   \n..                       ...                     ...  ...          ...   \n895              2787.436336           156062.873724  ...    -9.389655   \n896              1577.977534            84975.429941  ...    -1.962188   \n897              2110.835219           118581.569544  ...    -5.025696   \n898              2398.102837           155401.937825  ...    -2.340442   \n899              2006.391108            30949.779045  ...     3.504124   \n\n     mfcc17_var  mfcc18_mean  mfcc18_var  mfcc19_mean  mfcc19_var  \\\n800   89.098007     3.286665   75.316483    -0.759790   86.541344   \n801   51.981590    -3.916737   60.235485    -7.651851   62.772423   \n802   88.169411     2.696751   93.041008    -3.982512   56.710304   \n803   67.545120     1.040419   67.730591    -2.976455   77.732491   \n804   86.956825    12.441627   93.374908    -3.351832   70.833794   \n..          ...          ...         ...          ...         ...   \n895   29.267015    -2.343829   31.846668    -5.939578   29.790220   \n896   36.963413    -1.004035   39.421955    -4.650795   32.048714   \n897   52.735523     0.311581   74.133011     1.577879  119.053421   \n898   40.343788     0.378325   50.873978     0.912167   45.105530   \n899   43.067459     4.545272   40.307964    -1.290193   25.587284   \n\n     mfcc20_mean  mfcc20_var   label  fold  \n800     3.761663  104.204071  reggae     8  \n801    -3.549433   55.385967  reggae     8  \n802     2.865026   72.069252  reggae     8  \n803    -1.359459   95.659546  reggae     8  \n804     0.741723   89.512894  reggae     8  \n..           ...         ...     ...   ...  \n895    -7.361754   32.989792  reggae     8  \n896    -4.948742   36.061592  reggae     8  \n897     1.209420  111.470306  reggae     8  \n898    -0.442557   79.085022  reggae     8  \n899    -3.147427   25.028259  reggae     8  \n\n[100 rows x 61 columns]",
      "text/html": "<div>\n<style scoped>\n    .dataframe tbody tr th:only-of-type {\n        vertical-align: middle;\n    }\n\n    .dataframe tbody tr th {\n        vertical-align: top;\n    }\n\n    .dataframe thead th {\n        text-align: right;\n    }\n</style>\n<table border=\"1\" class=\"dataframe\">\n  <thead>\n    <tr style=\"text-align: right;\">\n      <th></th>\n      <th>filename</th>\n      <th>length</th>\n      <th>chroma_stft_mean</th>\n      <th>chroma_stft_var</th>\n      <th>rms_mean</th>\n      <th>rms_var</th>\n      <th>spectral_centroid_mean</th>\n      <th>spectral_centroid_var</th>\n      <th>spectral_bandwidth_mean</th>\n      <th>spectral_bandwidth_var</th>\n      <th>...</th>\n      <th>mfcc17_mean</th>\n      <th>mfcc17_var</th>\n      <th>mfcc18_mean</th>\n      <th>mfcc18_var</th>\n      <th>mfcc19_mean</th>\n      <th>mfcc19_var</th>\n      <th>mfcc20_mean</th>\n      <th>mfcc20_var</th>\n      <th>label</th>\n      <th>fold</th>\n    </tr>\n  </thead>\n  <tbody>\n    <tr>\n      <th>800</th>\n      <td>reggae.00000.wav</td>\n      <td>661794</td>\n      <td>0.329137</td>\n      <td>0.090313</td>\n      <td>0.094154</td>\n      <td>0.001773</td>\n      <td>2133.200382</td>\n      <td>276253.439506</td>\n      <td>2289.540104</td>\n      <td>130964.269614</td>\n      <td>...</td>\n      <td>-9.199856</td>\n      <td>89.098007</td>\n      <td>3.286665</td>\n      <td>75.316483</td>\n      <td>-0.759790</td>\n      <td>86.541344</td>\n      <td>3.761663</td>\n      <td>104.204071</td>\n      <td>reggae</td>\n      <td>8</td>\n    </tr>\n    <tr>\n      <th>801</th>\n      <td>reggae.00001.wav</td>\n      <td>661794</td>\n      <td>0.348960</td>\n      <td>0.088220</td>\n      <td>0.082020</td>\n      <td>0.001613</td>\n      <td>1638.907439</td>\n      <td>409140.440696</td>\n      <td>1995.201491</td>\n      <td>213841.434410</td>\n      <td>...</td>\n      <td>-9.744484</td>\n      <td>51.981590</td>\n      <td>-3.916737</td>\n      <td>60.235485</td>\n      <td>-7.651851</td>\n      <td>62.772423</td>\n      <td>-3.549433</td>\n      <td>55.385967</td>\n      <td>reggae</td>\n      <td>8</td>\n    </tr>\n    <tr>\n      <th>802</th>\n      <td>reggae.00002.wav</td>\n      <td>661794</td>\n      <td>0.378536</td>\n      <td>0.092250</td>\n      <td>0.092481</td>\n      <td>0.001832</td>\n      <td>1796.838299</td>\n      <td>427414.586884</td>\n      <td>2103.089979</td>\n      <td>152693.460470</td>\n      <td>...</td>\n      <td>-3.206988</td>\n      <td>88.169411</td>\n      <td>2.696751</td>\n      <td>93.041008</td>\n      <td>-3.982512</td>\n      <td>56.710304</td>\n      <td>2.865026</td>\n      <td>72.069252</td>\n      <td>reggae</td>\n      <td>8</td>\n    </tr>\n    <tr>\n      <th>803</th>\n      <td>reggae.00003.wav</td>\n      <td>661794</td>\n      <td>0.391410</td>\n      <td>0.093633</td>\n      <td>0.094226</td>\n      <td>0.002161</td>\n      <td>1923.341464</td>\n      <td>689480.351191</td>\n      <td>2107.911578</td>\n      <td>303982.233052</td>\n      <td>...</td>\n      <td>-5.853744</td>\n      <td>67.545120</td>\n      <td>1.040419</td>\n      <td>67.730591</td>\n      <td>-2.976455</td>\n      <td>77.732491</td>\n      <td>-1.359459</td>\n      <td>95.659546</td>\n      <td>reggae</td>\n      <td>8</td>\n    </tr>\n    <tr>\n      <th>804</th>\n      <td>reggae.00004.wav</td>\n      <td>661794</td>\n      <td>0.401963</td>\n      <td>0.093053</td>\n      <td>0.101107</td>\n      <td>0.002732</td>\n      <td>2009.585992</td>\n      <td>491386.403091</td>\n      <td>2141.377602</td>\n      <td>179690.822659</td>\n      <td>...</td>\n      <td>-3.370105</td>\n      <td>86.956825</td>\n      <td>12.441627</td>\n      <td>93.374908</td>\n      <td>-3.351832</td>\n      <td>70.833794</td>\n      <td>0.741723</td>\n      <td>89.512894</td>\n      <td>reggae</td>\n      <td>8</td>\n    </tr>\n    <tr>\n      <th>...</th>\n      <td>...</td>\n      <td>...</td>\n      <td>...</td>\n      <td>...</td>\n      <td>...</td>\n      <td>...</td>\n      <td>...</td>\n      <td>...</td>\n      <td>...</td>\n      <td>...</td>\n      <td>...</td>\n      <td>...</td>\n      <td>...</td>\n      <td>...</td>\n      <td>...</td>\n      <td>...</td>\n      <td>...</td>\n      <td>...</td>\n      <td>...</td>\n      <td>...</td>\n      <td>...</td>\n    </tr>\n    <tr>\n      <th>895</th>\n      <td>reggae.00095.wav</td>\n      <td>661504</td>\n      <td>0.424284</td>\n      <td>0.080734</td>\n      <td>0.162340</td>\n      <td>0.004120</td>\n      <td>2617.024683</td>\n      <td>509089.916872</td>\n      <td>2787.436336</td>\n      <td>156062.873724</td>\n      <td>...</td>\n      <td>-9.389655</td>\n      <td>29.267015</td>\n      <td>-2.343829</td>\n      <td>31.846668</td>\n      <td>-5.939578</td>\n      <td>29.790220</td>\n      <td>-7.361754</td>\n      <td>32.989792</td>\n      <td>reggae</td>\n      <td>8</td>\n    </tr>\n    <tr>\n      <th>896</th>\n      <td>reggae.00096.wav</td>\n      <td>661504</td>\n      <td>0.416339</td>\n      <td>0.095202</td>\n      <td>0.162230</td>\n      <td>0.005087</td>\n      <td>1629.799950</td>\n      <td>511839.383610</td>\n      <td>1577.977534</td>\n      <td>84975.429941</td>\n      <td>...</td>\n      <td>-1.962188</td>\n      <td>36.963413</td>\n      <td>-1.004035</td>\n      <td>39.421955</td>\n      <td>-4.650795</td>\n      <td>32.048714</td>\n      <td>-4.948742</td>\n      <td>36.061592</td>\n      <td>reggae</td>\n      <td>8</td>\n    </tr>\n    <tr>\n      <th>897</th>\n      <td>reggae.00097.wav</td>\n      <td>661504</td>\n      <td>0.271977</td>\n      <td>0.087021</td>\n      <td>0.110746</td>\n      <td>0.002601</td>\n      <td>2006.892211</td>\n      <td>305362.449901</td>\n      <td>2110.835219</td>\n      <td>118581.569544</td>\n      <td>...</td>\n      <td>-5.025696</td>\n      <td>52.735523</td>\n      <td>0.311581</td>\n      <td>74.133011</td>\n      <td>1.577879</td>\n      <td>119.053421</td>\n      <td>1.209420</td>\n      <td>111.470306</td>\n      <td>reggae</td>\n      <td>8</td>\n    </tr>\n    <tr>\n      <th>898</th>\n      <td>reggae.00098.wav</td>\n      <td>661504</td>\n      <td>0.410039</td>\n      <td>0.088842</td>\n      <td>0.139203</td>\n      <td>0.002202</td>\n      <td>2026.298986</td>\n      <td>575184.204476</td>\n      <td>2398.102837</td>\n      <td>155401.937825</td>\n      <td>...</td>\n      <td>-2.340442</td>\n      <td>40.343788</td>\n      <td>0.378325</td>\n      <td>50.873978</td>\n      <td>0.912167</td>\n      <td>45.105530</td>\n      <td>-0.442557</td>\n      <td>79.085022</td>\n      <td>reggae</td>\n      <td>8</td>\n    </tr>\n    <tr>\n      <th>899</th>\n      <td>reggae.00099.wav</td>\n      <td>661504</td>\n      <td>0.431106</td>\n      <td>0.081969</td>\n      <td>0.180177</td>\n      <td>0.001482</td>\n      <td>2467.092360</td>\n      <td>454158.606877</td>\n      <td>2006.391108</td>\n      <td>30949.779045</td>\n      <td>...</td>\n      <td>3.504124</td>\n      <td>43.067459</td>\n      <td>4.545272</td>\n      <td>40.307964</td>\n      <td>-1.290193</td>\n      <td>25.587284</td>\n      <td>-3.147427</td>\n      <td>25.028259</td>\n      <td>reggae</td>\n      <td>8</td>\n    </tr>\n  </tbody>\n</table>\n<p>100 rows × 61 columns</p>\n</div>"
     },
     "execution_count": 21,
     "metadata": {},
     "output_type": "execute_result"
    }
   ],
   "source": [
    "data[data['label'] == 'reggae']"
   ],
   "metadata": {
    "collapsed": false,
    "pycharm": {
     "name": "#%%\n"
    }
   }
  },
  {
   "cell_type": "code",
   "execution_count": 38,
   "outputs": [],
   "source": [
    "data.drop(data[data.filename == 'jazz.00054.wav'].index, inplace=True)"
   ],
   "metadata": {
    "collapsed": false,
    "pycharm": {
     "name": "#%%\n"
    }
   }
  },
  {
   "cell_type": "code",
   "execution_count": 59,
   "outputs": [],
   "source": [
    "train_data = []\n",
    "test_data = []\n",
    "for i in data.label.unique():\n",
    "    full_len = len(data[data.label == i])\n",
    "    train = data[data.label == i].head((full_len*70)//100)\n",
    "    if (full_len*30)%100 != 0:\n",
    "        test = data[data.label == i].tail(((full_len*30)//100) + 2)\n",
    "    else:\n",
    "        test = data[data.label == i].tail((full_len*30)//100)\n",
    "    train_data.append(train)\n",
    "    test_data.append(test)\n",
    "train_data = pd.concat(train_data)\n",
    "test_data = pd.concat(test_data)\n",
    "\n",
    "train_data.drop(columns=['Unnamed: 0'], inplace=True)\n",
    "test_data.drop(columns=['Unnamed: 0'], inplace=True)\n",
    "\n",
    "train_data.to_csv('Data/train_data.csv')\n",
    "test_data.to_csv('Data/test_data.csv')"
   ],
   "metadata": {
    "collapsed": false,
    "pycharm": {
     "name": "#%%\n"
    }
   }
  },
  {
   "cell_type": "code",
   "execution_count": 47,
   "outputs": [
    {
     "data": {
      "text/plain": "array(['blues', 'classical', 'country', 'disco', 'hiphop', 'jazz',\n       'metal', 'pop', 'reggae', 'rock'], dtype=object)"
     },
     "execution_count": 47,
     "metadata": {},
     "output_type": "execute_result"
    }
   ],
   "source": [
    "data.label.unique()"
   ],
   "metadata": {
    "collapsed": false,
    "pycharm": {
     "name": "#%%\n"
    }
   }
  },
  {
   "cell_type": "code",
   "execution_count": null,
   "outputs": [],
   "source": [],
   "metadata": {
    "collapsed": false,
    "pycharm": {
     "name": "#%%\n"
    }
   }
  }
 ],
 "metadata": {
  "kernelspec": {
   "display_name": "Python 3",
   "language": "python",
   "name": "python3"
  },
  "language_info": {
   "codemirror_mode": {
    "name": "ipython",
    "version": 2
   },
   "file_extension": ".py",
   "mimetype": "text/x-python",
   "name": "python",
   "nbconvert_exporter": "python",
   "pygments_lexer": "ipython2",
   "version": "2.7.6"
  }
 },
 "nbformat": 4,
 "nbformat_minor": 0
}