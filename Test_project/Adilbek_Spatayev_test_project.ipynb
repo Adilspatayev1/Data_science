{
 "cells": [
  {
   "cell_type": "markdown",
   "source": [
    "<h3>Importing main libraries for analysis"
   ],
   "metadata": {
    "collapsed": false,
    "pycharm": {
     "name": "#%% md\n"
    }
   }
  },
  {
   "cell_type": "code",
   "execution_count": 1,
   "outputs": [],
   "source": [
    "import numpy as np\n",
    "import pandas as pd\n",
    "import seaborn as sns\n",
    "import json\n",
    "import matplotlib.pyplot as plt"
   ],
   "metadata": {
    "collapsed": false,
    "pycharm": {
     "name": "#%%\n"
    }
   }
  },
  {
   "cell_type": "markdown",
   "source": [
    "<h3>First look at the data"
   ],
   "metadata": {
    "collapsed": false,
    "pycharm": {
     "name": "#%% md\n"
    }
   }
  },
  {
   "cell_type": "code",
   "execution_count": 2,
   "outputs": [],
   "source": [
    "data =  pd.read_csv('us events ad_revenue filtered 03.02-07.02.csv')"
   ],
   "metadata": {
    "collapsed": false,
    "pycharm": {
     "name": "#%%\n"
    }
   }
  },
  {
   "cell_type": "code",
   "execution_count": 3,
   "outputs": [
    {
     "data": {
      "text/plain": "    profile_id os_version device_manufacturer   device_model device_type  \\\n0  JLjpGzDHBQm         11             Samsung  Galaxy Tab S6      tablet   \n1  JLjpGzDHBQm         11             Samsung  Galaxy Tab S6      tablet   \n2  JLkVacrzHY6         11              Google        Pixel 2       phone   \n3  JMC6wG3cX0f         10             Samsung      Galaxy S9       phone   \n4  JLzWWTJfi1b         10             Samsung      Galaxy S9       phone   \n\n  device_locale    event_name  \\\n0         en_US  c_ad_revenue   \n1         en_US  c_ad_revenue   \n2         en_US  c_ad_revenue   \n3         en_US  c_ad_revenue   \n4         en_US  c_ad_revenue   \n\n                                          event_json       event_datetime  \\\n0  {\"ad_type\":\"banner\",\"placement\":\"\",\"view_index...  2022-02-04 20:02:28   \n1  {\"ad_type\":\"banner\",\"placement\":\"\",\"view_index...  2022-02-04 20:02:45   \n2  {\"ad_type\":\"banner\",\"placement\":\"\",\"view_index...  2022-02-05 17:53:05   \n3  {\"ad_type\":\"int\",\"placement\":\"next_level\",\"vie...  2022-02-06 17:09:01   \n4  {\"ad_type\":\"banner\",\"placement\":\"\",\"view_index...  2022-02-06 17:15:38   \n\n   event_timestamp event_receive_datetime  event_receive_timestamp  \\\n0       1643994148    2022-02-06 17:58:19               1644159499   \n1       1643994165    2022-02-06 17:58:19               1644159499   \n2       1644072785    2022-02-06 16:59:29               1644155969   \n3       1644156541    2022-02-06 17:09:24               1644156564   \n4       1644156938    2022-02-06 17:16:16               1644156976   \n\n  connection_type operator_name country_iso_code       city  \n0            wifi           NaN               US    Norwalk  \n1            wifi           NaN               US    Norwalk  \n2            wifi       Verizon               US  Charlotte  \n3            wifi      T-Mobile               US      Cocoa  \n4            cell      Verizon                US        NaN  ",
      "text/html": "<div>\n<style scoped>\n    .dataframe tbody tr th:only-of-type {\n        vertical-align: middle;\n    }\n\n    .dataframe tbody tr th {\n        vertical-align: top;\n    }\n\n    .dataframe thead th {\n        text-align: right;\n    }\n</style>\n<table border=\"1\" class=\"dataframe\">\n  <thead>\n    <tr style=\"text-align: right;\">\n      <th></th>\n      <th>profile_id</th>\n      <th>os_version</th>\n      <th>device_manufacturer</th>\n      <th>device_model</th>\n      <th>device_type</th>\n      <th>device_locale</th>\n      <th>event_name</th>\n      <th>event_json</th>\n      <th>event_datetime</th>\n      <th>event_timestamp</th>\n      <th>event_receive_datetime</th>\n      <th>event_receive_timestamp</th>\n      <th>connection_type</th>\n      <th>operator_name</th>\n      <th>country_iso_code</th>\n      <th>city</th>\n    </tr>\n  </thead>\n  <tbody>\n    <tr>\n      <th>0</th>\n      <td>JLjpGzDHBQm</td>\n      <td>11</td>\n      <td>Samsung</td>\n      <td>Galaxy Tab S6</td>\n      <td>tablet</td>\n      <td>en_US</td>\n      <td>c_ad_revenue</td>\n      <td>{\"ad_type\":\"banner\",\"placement\":\"\",\"view_index...</td>\n      <td>2022-02-04 20:02:28</td>\n      <td>1643994148</td>\n      <td>2022-02-06 17:58:19</td>\n      <td>1644159499</td>\n      <td>wifi</td>\n      <td>NaN</td>\n      <td>US</td>\n      <td>Norwalk</td>\n    </tr>\n    <tr>\n      <th>1</th>\n      <td>JLjpGzDHBQm</td>\n      <td>11</td>\n      <td>Samsung</td>\n      <td>Galaxy Tab S6</td>\n      <td>tablet</td>\n      <td>en_US</td>\n      <td>c_ad_revenue</td>\n      <td>{\"ad_type\":\"banner\",\"placement\":\"\",\"view_index...</td>\n      <td>2022-02-04 20:02:45</td>\n      <td>1643994165</td>\n      <td>2022-02-06 17:58:19</td>\n      <td>1644159499</td>\n      <td>wifi</td>\n      <td>NaN</td>\n      <td>US</td>\n      <td>Norwalk</td>\n    </tr>\n    <tr>\n      <th>2</th>\n      <td>JLkVacrzHY6</td>\n      <td>11</td>\n      <td>Google</td>\n      <td>Pixel 2</td>\n      <td>phone</td>\n      <td>en_US</td>\n      <td>c_ad_revenue</td>\n      <td>{\"ad_type\":\"banner\",\"placement\":\"\",\"view_index...</td>\n      <td>2022-02-05 17:53:05</td>\n      <td>1644072785</td>\n      <td>2022-02-06 16:59:29</td>\n      <td>1644155969</td>\n      <td>wifi</td>\n      <td>Verizon</td>\n      <td>US</td>\n      <td>Charlotte</td>\n    </tr>\n    <tr>\n      <th>3</th>\n      <td>JMC6wG3cX0f</td>\n      <td>10</td>\n      <td>Samsung</td>\n      <td>Galaxy S9</td>\n      <td>phone</td>\n      <td>en_US</td>\n      <td>c_ad_revenue</td>\n      <td>{\"ad_type\":\"int\",\"placement\":\"next_level\",\"vie...</td>\n      <td>2022-02-06 17:09:01</td>\n      <td>1644156541</td>\n      <td>2022-02-06 17:09:24</td>\n      <td>1644156564</td>\n      <td>wifi</td>\n      <td>T-Mobile</td>\n      <td>US</td>\n      <td>Cocoa</td>\n    </tr>\n    <tr>\n      <th>4</th>\n      <td>JLzWWTJfi1b</td>\n      <td>10</td>\n      <td>Samsung</td>\n      <td>Galaxy S9</td>\n      <td>phone</td>\n      <td>en_US</td>\n      <td>c_ad_revenue</td>\n      <td>{\"ad_type\":\"banner\",\"placement\":\"\",\"view_index...</td>\n      <td>2022-02-06 17:15:38</td>\n      <td>1644156938</td>\n      <td>2022-02-06 17:16:16</td>\n      <td>1644156976</td>\n      <td>cell</td>\n      <td>Verizon</td>\n      <td>US</td>\n      <td>NaN</td>\n    </tr>\n  </tbody>\n</table>\n</div>"
     },
     "execution_count": 3,
     "metadata": {},
     "output_type": "execute_result"
    }
   ],
   "source": [
    "data.head()"
   ],
   "metadata": {
    "collapsed": false,
    "pycharm": {
     "name": "#%%\n"
    }
   }
  },
  {
   "cell_type": "code",
   "execution_count": 4,
   "outputs": [
    {
     "data": {
      "text/plain": "         profile_id os_version device_manufacturer         device_model  \\\n860074  JLSQY2nx1NQ         12             Samsung  Galaxy S21 Ultra 5G   \n860075  JLKWwju79CA         12             Samsung             SM-G991U   \n860076  JLKWwju79CA         12             Samsung             SM-G991U   \n860077  JLKWwju79CA         12             Samsung             SM-G991U   \n860078  JLKWwju79CA         12             Samsung             SM-G991U   \n\n       device_type device_locale    event_name  \\\n860074       phone         en_US  c_ad_revenue   \n860075       phone         en_US  c_ad_revenue   \n860076       phone         en_US  c_ad_revenue   \n860077       phone         en_US  c_ad_revenue   \n860078       phone         en_US  c_ad_revenue   \n\n                                               event_json  \\\n860074  {\"ad_type\":\"banner\",\"placement\":\"\",\"view_index...   \n860075  {\"ad_type\":\"banner\",\"placement\":\"\",\"view_index...   \n860076  {\"ad_type\":\"banner\",\"placement\":\"\",\"view_index...   \n860077  {\"ad_type\":\"banner\",\"placement\":\"\",\"view_index...   \n860078  {\"ad_type\":\"banner\",\"placement\":\"\",\"view_index...   \n\n             event_datetime  event_timestamp event_receive_datetime  \\\n860074  2022-02-03 08:29:27       1643866167    2022-02-03 08:29:37   \n860075  2022-02-03 02:12:51       1643843571    2022-02-03 02:14:48   \n860076  2022-02-03 02:13:06       1643843586    2022-02-03 02:14:48   \n860077  2022-02-03 02:13:17       1643843597    2022-02-03 02:14:48   \n860078  2022-02-03 03:11:44       1643847104    2022-02-03 21:12:34   \n\n        event_receive_timestamp connection_type operator_name  \\\n860074               1643866177            wifi      Verizon    \n860075               1643843688            cell      Verizon    \n860076               1643843688            cell      Verizon    \n860077               1643843688            cell      Verizon    \n860078               1643911954            cell      Verizon    \n\n       country_iso_code         city  \n860074               US       Elmira  \n860075               US  Cherry Hill  \n860076               US  Cherry Hill  \n860077               US  Cherry Hill  \n860078               US  Cherry Hill  ",
      "text/html": "<div>\n<style scoped>\n    .dataframe tbody tr th:only-of-type {\n        vertical-align: middle;\n    }\n\n    .dataframe tbody tr th {\n        vertical-align: top;\n    }\n\n    .dataframe thead th {\n        text-align: right;\n    }\n</style>\n<table border=\"1\" class=\"dataframe\">\n  <thead>\n    <tr style=\"text-align: right;\">\n      <th></th>\n      <th>profile_id</th>\n      <th>os_version</th>\n      <th>device_manufacturer</th>\n      <th>device_model</th>\n      <th>device_type</th>\n      <th>device_locale</th>\n      <th>event_name</th>\n      <th>event_json</th>\n      <th>event_datetime</th>\n      <th>event_timestamp</th>\n      <th>event_receive_datetime</th>\n      <th>event_receive_timestamp</th>\n      <th>connection_type</th>\n      <th>operator_name</th>\n      <th>country_iso_code</th>\n      <th>city</th>\n    </tr>\n  </thead>\n  <tbody>\n    <tr>\n      <th>860074</th>\n      <td>JLSQY2nx1NQ</td>\n      <td>12</td>\n      <td>Samsung</td>\n      <td>Galaxy S21 Ultra 5G</td>\n      <td>phone</td>\n      <td>en_US</td>\n      <td>c_ad_revenue</td>\n      <td>{\"ad_type\":\"banner\",\"placement\":\"\",\"view_index...</td>\n      <td>2022-02-03 08:29:27</td>\n      <td>1643866167</td>\n      <td>2022-02-03 08:29:37</td>\n      <td>1643866177</td>\n      <td>wifi</td>\n      <td>Verizon</td>\n      <td>US</td>\n      <td>Elmira</td>\n    </tr>\n    <tr>\n      <th>860075</th>\n      <td>JLKWwju79CA</td>\n      <td>12</td>\n      <td>Samsung</td>\n      <td>SM-G991U</td>\n      <td>phone</td>\n      <td>en_US</td>\n      <td>c_ad_revenue</td>\n      <td>{\"ad_type\":\"banner\",\"placement\":\"\",\"view_index...</td>\n      <td>2022-02-03 02:12:51</td>\n      <td>1643843571</td>\n      <td>2022-02-03 02:14:48</td>\n      <td>1643843688</td>\n      <td>cell</td>\n      <td>Verizon</td>\n      <td>US</td>\n      <td>Cherry Hill</td>\n    </tr>\n    <tr>\n      <th>860076</th>\n      <td>JLKWwju79CA</td>\n      <td>12</td>\n      <td>Samsung</td>\n      <td>SM-G991U</td>\n      <td>phone</td>\n      <td>en_US</td>\n      <td>c_ad_revenue</td>\n      <td>{\"ad_type\":\"banner\",\"placement\":\"\",\"view_index...</td>\n      <td>2022-02-03 02:13:06</td>\n      <td>1643843586</td>\n      <td>2022-02-03 02:14:48</td>\n      <td>1643843688</td>\n      <td>cell</td>\n      <td>Verizon</td>\n      <td>US</td>\n      <td>Cherry Hill</td>\n    </tr>\n    <tr>\n      <th>860077</th>\n      <td>JLKWwju79CA</td>\n      <td>12</td>\n      <td>Samsung</td>\n      <td>SM-G991U</td>\n      <td>phone</td>\n      <td>en_US</td>\n      <td>c_ad_revenue</td>\n      <td>{\"ad_type\":\"banner\",\"placement\":\"\",\"view_index...</td>\n      <td>2022-02-03 02:13:17</td>\n      <td>1643843597</td>\n      <td>2022-02-03 02:14:48</td>\n      <td>1643843688</td>\n      <td>cell</td>\n      <td>Verizon</td>\n      <td>US</td>\n      <td>Cherry Hill</td>\n    </tr>\n    <tr>\n      <th>860078</th>\n      <td>JLKWwju79CA</td>\n      <td>12</td>\n      <td>Samsung</td>\n      <td>SM-G991U</td>\n      <td>phone</td>\n      <td>en_US</td>\n      <td>c_ad_revenue</td>\n      <td>{\"ad_type\":\"banner\",\"placement\":\"\",\"view_index...</td>\n      <td>2022-02-03 03:11:44</td>\n      <td>1643847104</td>\n      <td>2022-02-03 21:12:34</td>\n      <td>1643911954</td>\n      <td>cell</td>\n      <td>Verizon</td>\n      <td>US</td>\n      <td>Cherry Hill</td>\n    </tr>\n  </tbody>\n</table>\n</div>"
     },
     "execution_count": 4,
     "metadata": {},
     "output_type": "execute_result"
    }
   ],
   "source": [
    "data.tail()"
   ],
   "metadata": {
    "collapsed": false,
    "pycharm": {
     "name": "#%%\n"
    }
   }
  },
  {
   "cell_type": "markdown",
   "source": [
    "As is clear from the first observation of the data, we have one column in JSON format that needs to be expanded, since the necessary data is there."
   ],
   "metadata": {
    "collapsed": false,
    "pycharm": {
     "name": "#%% md\n"
    }
   }
  },
  {
   "cell_type": "code",
   "execution_count": 5,
   "outputs": [
    {
     "data": {
      "text/plain": "profile_id                     14\nos_version                      0\ndevice_manufacturer             0\ndevice_model                    0\ndevice_type                     0\ndevice_locale                   0\nevent_name                      0\nevent_json                      0\nevent_datetime                  0\nevent_timestamp                 0\nevent_receive_datetime          0\nevent_receive_timestamp         0\nconnection_type                 0\noperator_name               18879\ncountry_iso_code                0\ncity                       323708\ndtype: int64"
     },
     "execution_count": 5,
     "metadata": {},
     "output_type": "execute_result"
    }
   ],
   "source": [
    "data.isnull().sum()"
   ],
   "metadata": {
    "collapsed": false,
    "pycharm": {
     "name": "#%%\n"
    }
   }
  },
  {
   "cell_type": "code",
   "execution_count": 6,
   "outputs": [
    {
     "data": {
      "text/plain": "0"
     },
     "execution_count": 6,
     "metadata": {},
     "output_type": "execute_result"
    }
   ],
   "source": [
    "data = data.dropna(subset=['profile_id'])\n",
    "data.profile_id.isnull().sum()"
   ],
   "metadata": {
    "collapsed": false,
    "pycharm": {
     "name": "#%%\n"
    }
   }
  },
  {
   "cell_type": "markdown",
   "source": [
    "I had to delete 14 records, because among the entire sample of 860 thousand data, this is an insignificant amount."
   ],
   "metadata": {
    "collapsed": false,
    "pycharm": {
     "name": "#%% md\n"
    }
   }
  },
  {
   "cell_type": "markdown",
   "source": [
    "<h4>Parsing JSON column"
   ],
   "metadata": {
    "collapsed": false,
    "pycharm": {
     "name": "#%% md\n"
    }
   }
  },
  {
   "cell_type": "code",
   "execution_count": 7,
   "outputs": [
    {
     "name": "stdout",
     "output_type": "stream",
     "text": [
      "The type of event_json column: <class 'str'>\n",
      "Printing a one row of column as dict: {\"ad_type\":\"banner\",\"placement\":\"\",\"view_index\":1,\"session_view_index\":0,\"cur_ticks\":637795729492245130,\"session_length\":705.8807,\"revenue\":0.000510313,\"ads_ltv\":0.487876676518837,\"ecpm_sma\":0.511508107185364,\"normalized_ecpm_sma\":0.511508107185364,\"value\":0.000510313,\"currency\":\"USD\",\"ad_country_code\":\"US\",\"network_name\":\"Google AdMob\",\"ad_unit_id\":\"64c6b1114ea8c1cc\",\"ad_network_placement\":\"ca-app-pub-7511632782617496/8825263691\",\"creativeId\":\"CJ3XirfD5vUCFYPnKAUdG3MOYQ\"}\n"
     ]
    }
   ],
   "source": [
    "event_json_type = type(data['event_json'][0])\n",
    "print(f'The type of event_json column: {event_json_type}')\n",
    "\n",
    "event_json_sample = data['event_json'][0]\n",
    "print(f'Printing a one row of column as dict: {event_json_sample}')"
   ],
   "metadata": {
    "collapsed": false,
    "pycharm": {
     "name": "#%%\n"
    }
   }
  },
  {
   "cell_type": "code",
   "execution_count": 8,
   "outputs": [],
   "source": [
    "event = data['event_json'].apply(json.loads)\n",
    "event_list = list(event)\n",
    "event_list_json = json.dumps(event_list)"
   ],
   "metadata": {
    "collapsed": false,
    "pycharm": {
     "name": "#%%\n"
    }
   }
  },
  {
   "cell_type": "code",
   "execution_count": 9,
   "outputs": [
    {
     "data": {
      "text/plain": "    profile_id os_version device_manufacturer   device_model device_type  \\\n0  JLjpGzDHBQm         11             Samsung  Galaxy Tab S6      tablet   \n1  JLjpGzDHBQm         11             Samsung  Galaxy Tab S6      tablet   \n2  JLkVacrzHY6         11              Google        Pixel 2       phone   \n3  JMC6wG3cX0f         10             Samsung      Galaxy S9       phone   \n4  JLzWWTJfi1b         10             Samsung      Galaxy S9       phone   \n\n  device_locale    event_name       event_datetime  event_timestamp  \\\n0         en_US  c_ad_revenue  2022-02-04 20:02:28       1643994148   \n1         en_US  c_ad_revenue  2022-02-04 20:02:45       1643994165   \n2         en_US  c_ad_revenue  2022-02-05 17:53:05       1644072785   \n3         en_US  c_ad_revenue  2022-02-06 17:09:01       1644156541   \n4         en_US  c_ad_revenue  2022-02-06 17:15:38       1644156938   \n\n  event_receive_datetime  ...   ads_ltv   ecpm_sma normalized_ecpm_sma  \\\n0    2022-02-06 17:58:19  ...  0.487877   0.511508            0.511508   \n1    2022-02-06 17:58:19  ...  0.488387   0.511389            0.511389   \n2    2022-02-06 16:59:29  ...  0.678479   0.928597            0.928597   \n3    2022-02-06 17:09:24  ...  0.013894  13.782633           13.893784   \n4    2022-02-06 17:16:16  ...  0.060571   1.660282            1.660282   \n\n      value currency ad_country_code       network_name        ad_unit_id  \\\n0  0.000510      USD              US       Google AdMob  64c6b1114ea8c1cc   \n1  0.000510      USD              US       Google AdMob  64c6b1114ea8c1cc   \n2  0.002386      USD              US  APPLOVIN_EXCHANGE  64c6b1114ea8c1cc   \n3  0.013894      USD              US           AppLovin  3ab7705b07ebb75f   \n4  0.006828      USD              US       Google AdMob  64c6b1114ea8c1cc   \n\n                     ad_network_placement                  creativeId  \n0  ca-app-pub-7511632782617496/8825263691  CJ3XirfD5vUCFYPnKAUdG3MOYQ  \n1  ca-app-pub-7511632782617496/8825263691  CNa-lL_D5vUCFZrpKAUdU2QBDQ  \n2                          banner_regular                  pandora-58  \n3                           inter_regular                    13045364  \n4  ca-app-pub-7511632782617496/6197324251  CMTi5e-h6_UCFUdVwQodt9EIMw  \n\n[5 rows x 32 columns]",
      "text/html": "<div>\n<style scoped>\n    .dataframe tbody tr th:only-of-type {\n        vertical-align: middle;\n    }\n\n    .dataframe tbody tr th {\n        vertical-align: top;\n    }\n\n    .dataframe thead th {\n        text-align: right;\n    }\n</style>\n<table border=\"1\" class=\"dataframe\">\n  <thead>\n    <tr style=\"text-align: right;\">\n      <th></th>\n      <th>profile_id</th>\n      <th>os_version</th>\n      <th>device_manufacturer</th>\n      <th>device_model</th>\n      <th>device_type</th>\n      <th>device_locale</th>\n      <th>event_name</th>\n      <th>event_datetime</th>\n      <th>event_timestamp</th>\n      <th>event_receive_datetime</th>\n      <th>...</th>\n      <th>ads_ltv</th>\n      <th>ecpm_sma</th>\n      <th>normalized_ecpm_sma</th>\n      <th>value</th>\n      <th>currency</th>\n      <th>ad_country_code</th>\n      <th>network_name</th>\n      <th>ad_unit_id</th>\n      <th>ad_network_placement</th>\n      <th>creativeId</th>\n    </tr>\n  </thead>\n  <tbody>\n    <tr>\n      <th>0</th>\n      <td>JLjpGzDHBQm</td>\n      <td>11</td>\n      <td>Samsung</td>\n      <td>Galaxy Tab S6</td>\n      <td>tablet</td>\n      <td>en_US</td>\n      <td>c_ad_revenue</td>\n      <td>2022-02-04 20:02:28</td>\n      <td>1643994148</td>\n      <td>2022-02-06 17:58:19</td>\n      <td>...</td>\n      <td>0.487877</td>\n      <td>0.511508</td>\n      <td>0.511508</td>\n      <td>0.000510</td>\n      <td>USD</td>\n      <td>US</td>\n      <td>Google AdMob</td>\n      <td>64c6b1114ea8c1cc</td>\n      <td>ca-app-pub-7511632782617496/8825263691</td>\n      <td>CJ3XirfD5vUCFYPnKAUdG3MOYQ</td>\n    </tr>\n    <tr>\n      <th>1</th>\n      <td>JLjpGzDHBQm</td>\n      <td>11</td>\n      <td>Samsung</td>\n      <td>Galaxy Tab S6</td>\n      <td>tablet</td>\n      <td>en_US</td>\n      <td>c_ad_revenue</td>\n      <td>2022-02-04 20:02:45</td>\n      <td>1643994165</td>\n      <td>2022-02-06 17:58:19</td>\n      <td>...</td>\n      <td>0.488387</td>\n      <td>0.511389</td>\n      <td>0.511389</td>\n      <td>0.000510</td>\n      <td>USD</td>\n      <td>US</td>\n      <td>Google AdMob</td>\n      <td>64c6b1114ea8c1cc</td>\n      <td>ca-app-pub-7511632782617496/8825263691</td>\n      <td>CNa-lL_D5vUCFZrpKAUdU2QBDQ</td>\n    </tr>\n    <tr>\n      <th>2</th>\n      <td>JLkVacrzHY6</td>\n      <td>11</td>\n      <td>Google</td>\n      <td>Pixel 2</td>\n      <td>phone</td>\n      <td>en_US</td>\n      <td>c_ad_revenue</td>\n      <td>2022-02-05 17:53:05</td>\n      <td>1644072785</td>\n      <td>2022-02-06 16:59:29</td>\n      <td>...</td>\n      <td>0.678479</td>\n      <td>0.928597</td>\n      <td>0.928597</td>\n      <td>0.002386</td>\n      <td>USD</td>\n      <td>US</td>\n      <td>APPLOVIN_EXCHANGE</td>\n      <td>64c6b1114ea8c1cc</td>\n      <td>banner_regular</td>\n      <td>pandora-58</td>\n    </tr>\n    <tr>\n      <th>3</th>\n      <td>JMC6wG3cX0f</td>\n      <td>10</td>\n      <td>Samsung</td>\n      <td>Galaxy S9</td>\n      <td>phone</td>\n      <td>en_US</td>\n      <td>c_ad_revenue</td>\n      <td>2022-02-06 17:09:01</td>\n      <td>1644156541</td>\n      <td>2022-02-06 17:09:24</td>\n      <td>...</td>\n      <td>0.013894</td>\n      <td>13.782633</td>\n      <td>13.893784</td>\n      <td>0.013894</td>\n      <td>USD</td>\n      <td>US</td>\n      <td>AppLovin</td>\n      <td>3ab7705b07ebb75f</td>\n      <td>inter_regular</td>\n      <td>13045364</td>\n    </tr>\n    <tr>\n      <th>4</th>\n      <td>JLzWWTJfi1b</td>\n      <td>10</td>\n      <td>Samsung</td>\n      <td>Galaxy S9</td>\n      <td>phone</td>\n      <td>en_US</td>\n      <td>c_ad_revenue</td>\n      <td>2022-02-06 17:15:38</td>\n      <td>1644156938</td>\n      <td>2022-02-06 17:16:16</td>\n      <td>...</td>\n      <td>0.060571</td>\n      <td>1.660282</td>\n      <td>1.660282</td>\n      <td>0.006828</td>\n      <td>USD</td>\n      <td>US</td>\n      <td>Google AdMob</td>\n      <td>64c6b1114ea8c1cc</td>\n      <td>ca-app-pub-7511632782617496/6197324251</td>\n      <td>CMTi5e-h6_UCFUdVwQodt9EIMw</td>\n    </tr>\n  </tbody>\n</table>\n<p>5 rows × 32 columns</p>\n</div>"
     },
     "execution_count": 9,
     "metadata": {},
     "output_type": "execute_result"
    }
   ],
   "source": [
    "new_data = data\n",
    "new_data = new_data.join(pd.read_json(event_list_json))\n",
    "del(new_data['event_json'])\n",
    "new_data.head()"
   ],
   "metadata": {
    "collapsed": false,
    "pycharm": {
     "name": "#%%\n"
    }
   }
  },
  {
   "cell_type": "code",
   "execution_count": 10,
   "outputs": [
    {
     "data": {
      "text/plain": "  ad_type   placement  view_index  session_view_index           cur_ticks  \\\n0  banner                       1                   0  637795729492245130   \n1  banner                       1                   0  637795729659949790   \n2  banner                       1                   0  637796515863735930   \n3     int  next_level           1                   1  637797353426827330   \n4  banner                       1                   0  637797357392197840   \n\n   session_length   revenue   ads_ltv   ecpm_sma  normalized_ecpm_sma  \\\n0       705.88070  0.000510  0.487877   0.511508             0.511508   \n1       722.65120  0.000510  0.488387   0.511389             0.511389   \n2       431.81290  0.002386  0.678479   0.928597             0.928597   \n3       125.94960  0.013894  0.013894  13.782633            13.893784   \n4        12.71129  0.006828  0.060571   1.660282             1.660282   \n\n      value currency ad_country_code       network_name        ad_unit_id  \\\n0  0.000510      USD              US       Google AdMob  64c6b1114ea8c1cc   \n1  0.000510      USD              US       Google AdMob  64c6b1114ea8c1cc   \n2  0.002386      USD              US  APPLOVIN_EXCHANGE  64c6b1114ea8c1cc   \n3  0.013894      USD              US           AppLovin  3ab7705b07ebb75f   \n4  0.006828      USD              US       Google AdMob  64c6b1114ea8c1cc   \n\n                     ad_network_placement                  creativeId  \n0  ca-app-pub-7511632782617496/8825263691  CJ3XirfD5vUCFYPnKAUdG3MOYQ  \n1  ca-app-pub-7511632782617496/8825263691  CNa-lL_D5vUCFZrpKAUdU2QBDQ  \n2                          banner_regular                  pandora-58  \n3                           inter_regular                    13045364  \n4  ca-app-pub-7511632782617496/6197324251  CMTi5e-h6_UCFUdVwQodt9EIMw  ",
      "text/html": "<div>\n<style scoped>\n    .dataframe tbody tr th:only-of-type {\n        vertical-align: middle;\n    }\n\n    .dataframe tbody tr th {\n        vertical-align: top;\n    }\n\n    .dataframe thead th {\n        text-align: right;\n    }\n</style>\n<table border=\"1\" class=\"dataframe\">\n  <thead>\n    <tr style=\"text-align: right;\">\n      <th></th>\n      <th>ad_type</th>\n      <th>placement</th>\n      <th>view_index</th>\n      <th>session_view_index</th>\n      <th>cur_ticks</th>\n      <th>session_length</th>\n      <th>revenue</th>\n      <th>ads_ltv</th>\n      <th>ecpm_sma</th>\n      <th>normalized_ecpm_sma</th>\n      <th>value</th>\n      <th>currency</th>\n      <th>ad_country_code</th>\n      <th>network_name</th>\n      <th>ad_unit_id</th>\n      <th>ad_network_placement</th>\n      <th>creativeId</th>\n    </tr>\n  </thead>\n  <tbody>\n    <tr>\n      <th>0</th>\n      <td>banner</td>\n      <td></td>\n      <td>1</td>\n      <td>0</td>\n      <td>637795729492245130</td>\n      <td>705.88070</td>\n      <td>0.000510</td>\n      <td>0.487877</td>\n      <td>0.511508</td>\n      <td>0.511508</td>\n      <td>0.000510</td>\n      <td>USD</td>\n      <td>US</td>\n      <td>Google AdMob</td>\n      <td>64c6b1114ea8c1cc</td>\n      <td>ca-app-pub-7511632782617496/8825263691</td>\n      <td>CJ3XirfD5vUCFYPnKAUdG3MOYQ</td>\n    </tr>\n    <tr>\n      <th>1</th>\n      <td>banner</td>\n      <td></td>\n      <td>1</td>\n      <td>0</td>\n      <td>637795729659949790</td>\n      <td>722.65120</td>\n      <td>0.000510</td>\n      <td>0.488387</td>\n      <td>0.511389</td>\n      <td>0.511389</td>\n      <td>0.000510</td>\n      <td>USD</td>\n      <td>US</td>\n      <td>Google AdMob</td>\n      <td>64c6b1114ea8c1cc</td>\n      <td>ca-app-pub-7511632782617496/8825263691</td>\n      <td>CNa-lL_D5vUCFZrpKAUdU2QBDQ</td>\n    </tr>\n    <tr>\n      <th>2</th>\n      <td>banner</td>\n      <td></td>\n      <td>1</td>\n      <td>0</td>\n      <td>637796515863735930</td>\n      <td>431.81290</td>\n      <td>0.002386</td>\n      <td>0.678479</td>\n      <td>0.928597</td>\n      <td>0.928597</td>\n      <td>0.002386</td>\n      <td>USD</td>\n      <td>US</td>\n      <td>APPLOVIN_EXCHANGE</td>\n      <td>64c6b1114ea8c1cc</td>\n      <td>banner_regular</td>\n      <td>pandora-58</td>\n    </tr>\n    <tr>\n      <th>3</th>\n      <td>int</td>\n      <td>next_level</td>\n      <td>1</td>\n      <td>1</td>\n      <td>637797353426827330</td>\n      <td>125.94960</td>\n      <td>0.013894</td>\n      <td>0.013894</td>\n      <td>13.782633</td>\n      <td>13.893784</td>\n      <td>0.013894</td>\n      <td>USD</td>\n      <td>US</td>\n      <td>AppLovin</td>\n      <td>3ab7705b07ebb75f</td>\n      <td>inter_regular</td>\n      <td>13045364</td>\n    </tr>\n    <tr>\n      <th>4</th>\n      <td>banner</td>\n      <td></td>\n      <td>1</td>\n      <td>0</td>\n      <td>637797357392197840</td>\n      <td>12.71129</td>\n      <td>0.006828</td>\n      <td>0.060571</td>\n      <td>1.660282</td>\n      <td>1.660282</td>\n      <td>0.006828</td>\n      <td>USD</td>\n      <td>US</td>\n      <td>Google AdMob</td>\n      <td>64c6b1114ea8c1cc</td>\n      <td>ca-app-pub-7511632782617496/6197324251</td>\n      <td>CMTi5e-h6_UCFUdVwQodt9EIMw</td>\n    </tr>\n  </tbody>\n</table>\n</div>"
     },
     "execution_count": 10,
     "metadata": {},
     "output_type": "execute_result"
    }
   ],
   "source": [
    "json_data = pd.read_json(event_list_json)\n",
    "json_data.head()"
   ],
   "metadata": {
    "collapsed": false,
    "pycharm": {
     "name": "#%%\n"
    }
   }
  },
  {
   "cell_type": "markdown",
   "source": [
    "In this case, I decided to completely parse the json data to make it easier to interact with them in the future and conduct a more correct analysis."
   ],
   "metadata": {
    "collapsed": false,
    "pycharm": {
     "name": "#%% md\n"
    }
   }
  },
  {
   "cell_type": "markdown",
   "source": [
    "<h3> Analysis"
   ],
   "metadata": {
    "collapsed": false,
    "pycharm": {
     "name": "#%% md\n"
    }
   }
  },
  {
   "cell_type": "code",
   "execution_count": 11,
   "outputs": [
    {
     "data": {
      "text/plain": "array(['banner', 'int', 'rv', nan], dtype=object)"
     },
     "execution_count": 11,
     "metadata": {},
     "output_type": "execute_result"
    }
   ],
   "source": [
    "new_data.ad_type.unique()"
   ],
   "metadata": {
    "collapsed": false,
    "pycharm": {
     "name": "#%%\n"
    }
   }
  },
  {
   "cell_type": "markdown",
   "source": [
    "As we know from the condition of the problem, there are three types of advertising, but I brought them out to better remember"
   ],
   "metadata": {
    "collapsed": false,
    "pycharm": {
     "name": "#%% md\n"
    }
   }
  },
  {
   "cell_type": "code",
   "execution_count": 12,
   "outputs": [
    {
     "data": {
      "text/plain": "    profile_id os_version device_manufacturer   device_model device_type  \\\n0  JLjpGzDHBQm         11             Samsung  Galaxy Tab S6      tablet   \n1  JLjpGzDHBQm         11             Samsung  Galaxy Tab S6      tablet   \n2  JLkVacrzHY6         11              Google        Pixel 2       phone   \n3  JMC6wG3cX0f         10             Samsung      Galaxy S9       phone   \n4  JLzWWTJfi1b         10             Samsung      Galaxy S9       phone   \n\n  device_locale    event_name       event_datetime  event_timestamp  \\\n0         en_US  c_ad_revenue  2022-02-04 20:02:28       1643994148   \n1         en_US  c_ad_revenue  2022-02-04 20:02:45       1643994165   \n2         en_US  c_ad_revenue  2022-02-05 17:53:05       1644072785   \n3         en_US  c_ad_revenue  2022-02-06 17:09:01       1644156541   \n4         en_US  c_ad_revenue  2022-02-06 17:15:38       1644156938   \n\n  event_receive_datetime  ...   ecpm_sma normalized_ecpm_sma     value  \\\n0    2022-02-06 17:58:19  ...   0.511508            0.511508  0.000510   \n1    2022-02-06 17:58:19  ...   0.511389            0.511389  0.000510   \n2    2022-02-06 16:59:29  ...   0.928597            0.928597  0.002386   \n3    2022-02-06 17:09:24  ...  13.782633           13.893784  0.013894   \n4    2022-02-06 17:16:16  ...   1.660282            1.660282  0.006828   \n\n  currency ad_country_code       network_name        ad_unit_id  \\\n0      USD              US       Google AdMob  64c6b1114ea8c1cc   \n1      USD              US       Google AdMob  64c6b1114ea8c1cc   \n2      USD              US  APPLOVIN_EXCHANGE  64c6b1114ea8c1cc   \n3      USD              US           AppLovin  3ab7705b07ebb75f   \n4      USD              US       Google AdMob  64c6b1114ea8c1cc   \n\n                     ad_network_placement                  creativeId  \\\n0  ca-app-pub-7511632782617496/8825263691  CJ3XirfD5vUCFYPnKAUdG3MOYQ   \n1  ca-app-pub-7511632782617496/8825263691  CNa-lL_D5vUCFZrpKAUdU2QBDQ   \n2                          banner_regular                  pandora-58   \n3                           inter_regular                    13045364   \n4  ca-app-pub-7511632782617496/6197324251  CMTi5e-h6_UCFUdVwQodt9EIMw   \n\n        eCPM  \n0   0.510313  \n1   0.510313  \n2   2.386163  \n3  13.893784  \n4   6.827570  \n\n[5 rows x 33 columns]",
      "text/html": "<div>\n<style scoped>\n    .dataframe tbody tr th:only-of-type {\n        vertical-align: middle;\n    }\n\n    .dataframe tbody tr th {\n        vertical-align: top;\n    }\n\n    .dataframe thead th {\n        text-align: right;\n    }\n</style>\n<table border=\"1\" class=\"dataframe\">\n  <thead>\n    <tr style=\"text-align: right;\">\n      <th></th>\n      <th>profile_id</th>\n      <th>os_version</th>\n      <th>device_manufacturer</th>\n      <th>device_model</th>\n      <th>device_type</th>\n      <th>device_locale</th>\n      <th>event_name</th>\n      <th>event_datetime</th>\n      <th>event_timestamp</th>\n      <th>event_receive_datetime</th>\n      <th>...</th>\n      <th>ecpm_sma</th>\n      <th>normalized_ecpm_sma</th>\n      <th>value</th>\n      <th>currency</th>\n      <th>ad_country_code</th>\n      <th>network_name</th>\n      <th>ad_unit_id</th>\n      <th>ad_network_placement</th>\n      <th>creativeId</th>\n      <th>eCPM</th>\n    </tr>\n  </thead>\n  <tbody>\n    <tr>\n      <th>0</th>\n      <td>JLjpGzDHBQm</td>\n      <td>11</td>\n      <td>Samsung</td>\n      <td>Galaxy Tab S6</td>\n      <td>tablet</td>\n      <td>en_US</td>\n      <td>c_ad_revenue</td>\n      <td>2022-02-04 20:02:28</td>\n      <td>1643994148</td>\n      <td>2022-02-06 17:58:19</td>\n      <td>...</td>\n      <td>0.511508</td>\n      <td>0.511508</td>\n      <td>0.000510</td>\n      <td>USD</td>\n      <td>US</td>\n      <td>Google AdMob</td>\n      <td>64c6b1114ea8c1cc</td>\n      <td>ca-app-pub-7511632782617496/8825263691</td>\n      <td>CJ3XirfD5vUCFYPnKAUdG3MOYQ</td>\n      <td>0.510313</td>\n    </tr>\n    <tr>\n      <th>1</th>\n      <td>JLjpGzDHBQm</td>\n      <td>11</td>\n      <td>Samsung</td>\n      <td>Galaxy Tab S6</td>\n      <td>tablet</td>\n      <td>en_US</td>\n      <td>c_ad_revenue</td>\n      <td>2022-02-04 20:02:45</td>\n      <td>1643994165</td>\n      <td>2022-02-06 17:58:19</td>\n      <td>...</td>\n      <td>0.511389</td>\n      <td>0.511389</td>\n      <td>0.000510</td>\n      <td>USD</td>\n      <td>US</td>\n      <td>Google AdMob</td>\n      <td>64c6b1114ea8c1cc</td>\n      <td>ca-app-pub-7511632782617496/8825263691</td>\n      <td>CNa-lL_D5vUCFZrpKAUdU2QBDQ</td>\n      <td>0.510313</td>\n    </tr>\n    <tr>\n      <th>2</th>\n      <td>JLkVacrzHY6</td>\n      <td>11</td>\n      <td>Google</td>\n      <td>Pixel 2</td>\n      <td>phone</td>\n      <td>en_US</td>\n      <td>c_ad_revenue</td>\n      <td>2022-02-05 17:53:05</td>\n      <td>1644072785</td>\n      <td>2022-02-06 16:59:29</td>\n      <td>...</td>\n      <td>0.928597</td>\n      <td>0.928597</td>\n      <td>0.002386</td>\n      <td>USD</td>\n      <td>US</td>\n      <td>APPLOVIN_EXCHANGE</td>\n      <td>64c6b1114ea8c1cc</td>\n      <td>banner_regular</td>\n      <td>pandora-58</td>\n      <td>2.386163</td>\n    </tr>\n    <tr>\n      <th>3</th>\n      <td>JMC6wG3cX0f</td>\n      <td>10</td>\n      <td>Samsung</td>\n      <td>Galaxy S9</td>\n      <td>phone</td>\n      <td>en_US</td>\n      <td>c_ad_revenue</td>\n      <td>2022-02-06 17:09:01</td>\n      <td>1644156541</td>\n      <td>2022-02-06 17:09:24</td>\n      <td>...</td>\n      <td>13.782633</td>\n      <td>13.893784</td>\n      <td>0.013894</td>\n      <td>USD</td>\n      <td>US</td>\n      <td>AppLovin</td>\n      <td>3ab7705b07ebb75f</td>\n      <td>inter_regular</td>\n      <td>13045364</td>\n      <td>13.893784</td>\n    </tr>\n    <tr>\n      <th>4</th>\n      <td>JLzWWTJfi1b</td>\n      <td>10</td>\n      <td>Samsung</td>\n      <td>Galaxy S9</td>\n      <td>phone</td>\n      <td>en_US</td>\n      <td>c_ad_revenue</td>\n      <td>2022-02-06 17:15:38</td>\n      <td>1644156938</td>\n      <td>2022-02-06 17:16:16</td>\n      <td>...</td>\n      <td>1.660282</td>\n      <td>1.660282</td>\n      <td>0.006828</td>\n      <td>USD</td>\n      <td>US</td>\n      <td>Google AdMob</td>\n      <td>64c6b1114ea8c1cc</td>\n      <td>ca-app-pub-7511632782617496/6197324251</td>\n      <td>CMTi5e-h6_UCFUdVwQodt9EIMw</td>\n      <td>6.827570</td>\n    </tr>\n  </tbody>\n</table>\n<p>5 rows × 33 columns</p>\n</div>"
     },
     "execution_count": 12,
     "metadata": {},
     "output_type": "execute_result"
    }
   ],
   "source": [
    "new_data['eCPM'] = new_data.revenue * 1000\n",
    "new_data.head()"
   ],
   "metadata": {
    "collapsed": false,
    "pycharm": {
     "name": "#%%\n"
    }
   }
  },
  {
   "cell_type": "markdown",
   "source": [
    "According to the condition of the problem, this column gave us a new value"
   ],
   "metadata": {
    "collapsed": false,
    "pycharm": {
     "name": "#%% md\n"
    }
   }
  },
  {
   "cell_type": "markdown",
   "source": [
    "<h4>Task 1b"
   ],
   "metadata": {
    "collapsed": false,
    "pycharm": {
     "name": "#%% md\n"
    }
   }
  },
  {
   "cell_type": "code",
   "execution_count": 13,
   "outputs": [
    {
     "data": {
      "text/plain": "profile_id\nJL00qCZH1HV     3.183940\nJL015rw9vmN     3.527347\nJL01aCdFTJy     1.171593\nJL04ODuw9UP     3.787363\nJL06OWhBYxn     0.297621\n                 ...    \nJMLQTj4i34Y    10.207943\nJMLY5SO7wmn     2.351371\nJMLmauy744E     0.432453\nJMLt54Rmui5     6.557208\nJMML6MrvRA4     2.118834\nName: eCPM, Length: 4226, dtype: float64"
     },
     "execution_count": 13,
     "metadata": {},
     "output_type": "execute_result"
    }
   ],
   "source": [
    "x = new_data.groupby('profile_id')['eCPM'].mean()\n",
    "x"
   ],
   "metadata": {
    "collapsed": false,
    "pycharm": {
     "name": "#%%\n"
    }
   }
  },
  {
   "cell_type": "markdown",
   "source": [
    "This variable has average values grouped by users"
   ],
   "metadata": {
    "collapsed": false,
    "pycharm": {
     "name": "#%% md\n"
    }
   }
  },
  {
   "cell_type": "code",
   "execution_count": 15,
   "outputs": [],
   "source": [
    "def normal_distribution(x, mean, std):\n",
    "    formula = (np.pi * std) * np.exp(-0.5*((x - mean) / std)**2)\n",
    "    return formula"
   ],
   "metadata": {
    "collapsed": false,
    "pycharm": {
     "name": "#%%\n"
    }
   }
  },
  {
   "cell_type": "markdown",
   "source": [
    "This function gives us the normal distribution of data"
   ],
   "metadata": {
    "collapsed": false,
    "pycharm": {
     "name": "#%% md\n"
    }
   }
  },
  {
   "cell_type": "code",
   "execution_count": 23,
   "outputs": [
    {
     "data": {
      "text/plain": "<Figure size 432x288 with 1 Axes>",
      "image/png": "[encoded data removed]"
     },
     "metadata": {
      "needs_background": "light"
     },
     "output_type": "display_data"
    }
   ],
   "source": [
    "pdf = normal_distribution(x, x.mean(), x.std())\n",
    "plt.hist(pdf, bins=25, alpha=0.6, color='b')\n",
    "plt.show()"
   ],
   "metadata": {
    "collapsed": false,
    "pycharm": {
     "name": "#%%\n"
    }
   }
  },
  {
   "cell_type": "markdown",
   "source": [
    "This distribution cannot be normal due to the fact that the number of players who watch ads varies greatly"
   ],
   "metadata": {
    "collapsed": false,
    "pycharm": {
     "name": "#%% md\n"
    }
   }
  },
  {
   "cell_type": "code",
   "execution_count": 22,
   "outputs": [
    {
     "data": {
      "text/plain": "<Figure size 432x288 with 1 Axes>",
      "image/png": "[encoded data removed]"
     },
     "metadata": {
      "needs_background": "light"
     },
     "output_type": "display_data"
    }
   ],
   "source": [
    "plt.hist(x, bins=25, alpha=0.5, color='b')\n",
    "plt.show()"
   ],
   "metadata": {
    "collapsed": false,
    "pycharm": {
     "name": "#%%\n"
    }
   }
  },
  {
   "cell_type": "markdown",
   "source": [],
   "metadata": {
    "collapsed": false,
    "pycharm": {
     "name": "#%% md\n"
    }
   }
  },
  {
   "cell_type": "code",
   "execution_count": 24,
   "outputs": [
    {
     "data": {
      "text/plain": "<Figure size 432x288 with 1 Axes>",
      "image/png": "[encoded data removed]"
     },
     "metadata": {
      "needs_background": "light"
     },
     "output_type": "display_data"
    }
   ],
   "source": [
    "plt.hist(np.log(x), bins=25, alpha=0.5, color='b')\n",
    "plt.show()"
   ],
   "metadata": {
    "collapsed": false,
    "pycharm": {
     "name": "#%%\n"
    }
   }
  },
  {
   "cell_type": "markdown",
   "source": [
    "As we can see now, our distribution is now more like a normal one.\n",
    "\n",
    "The reason why I could not display this graph above is that in fact our data has a log-normal distribution."
   ],
   "metadata": {
    "collapsed": false,
    "pycharm": {
     "name": "#%% md\n"
    }
   }
  },
  {
   "cell_type": "markdown",
   "source": [
    "<h4>Task 1b"
   ],
   "metadata": {
    "collapsed": false,
    "pycharm": {
     "name": "#%% md\n"
    }
   }
  },
  {
   "cell_type": "code",
   "execution_count": 25,
   "outputs": [
    {
     "data": {
      "text/plain": "city\nAberdeen      3.241509\nAbilene       5.492133\nAddison       0.068850\nAfton         2.048100\nAkron         7.375437\n                ...   \nYoungstown    3.490887\nYpsilanti     1.837311\nYukon         1.833623\nYuma          1.272082\nZanesville    2.129764\nName: eCPM, Length: 920, dtype: float64"
     },
     "execution_count": 25,
     "metadata": {},
     "output_type": "execute_result"
    }
   ],
   "source": [
    "x = new_data.groupby('city')['eCPM'].mean()\n",
    "x"
   ],
   "metadata": {
    "collapsed": false,
    "pycharm": {
     "name": "#%%\n"
    }
   }
  },
  {
   "cell_type": "code",
   "execution_count": 26,
   "outputs": [
    {
     "data": {
      "text/plain": "<Figure size 432x288 with 1 Axes>",
      "image/png": "[encoded data removed]"
     },
     "metadata": {
      "needs_background": "light"
     },
     "output_type": "display_data"
    }
   ],
   "source": [
    "plt.boxplot(x)\n",
    "plt.show()"
   ],
   "metadata": {
    "collapsed": false,
    "pycharm": {
     "name": "#%%\n"
    }
   }
  },
  {
   "cell_type": "code",
   "execution_count": 35,
   "outputs": [
    {
     "data": {
      "text/plain": "<Figure size 1080x432 with 1 Axes>",
      "image/png": "[encoded data removed]"
     },
     "metadata": {
      "needs_background": "light"
     },
     "output_type": "display_data"
    }
   ],
   "source": [
    "new_x = x[x >= 50]\n",
    "plt.figure(figsize=(15, 6))\n",
    "plt.bar(new_x.index, new_x)\n",
    "plt.show()"
   ],
   "metadata": {
    "collapsed": false,
    "pycharm": {
     "name": "#%%\n"
    }
   }
  },
  {
   "cell_type": "markdown",
   "source": [
    "These cities bring, in my opinion, the main profit for the company namely those cities where the average gives more than a profit of 50"
   ],
   "metadata": {
    "collapsed": false,
    "pycharm": {
     "name": "#%% md\n"
    }
   }
  },
  {
   "cell_type": "code",
   "execution_count": 36,
   "outputs": [
    {
     "data": {
      "text/plain": "os_version\n10       2.281999\n11       2.781259\n12       3.138788\n5.0.2    0.705805\n6.0.1    1.528732\n7.0      2.941484\n7.1.1    2.005064\n7.1.2    0.637282\n8.0.0    1.708112\n8.1.0    1.540559\n9        2.103476\nName: eCPM, dtype: float64"
     },
     "execution_count": 36,
     "metadata": {},
     "output_type": "execute_result"
    }
   ],
   "source": [
    "x = new_data.groupby('os_version')['eCPM'].mean()\n",
    "x"
   ],
   "metadata": {
    "collapsed": false,
    "pycharm": {
     "name": "#%%\n"
    }
   }
  },
  {
   "cell_type": "code",
   "execution_count": 37,
   "outputs": [
    {
     "data": {
      "text/plain": "<Figure size 1080x432 with 1 Axes>",
      "image/png": "[encoded data removed]"
     },
     "metadata": {
      "needs_background": "light"
     },
     "output_type": "display_data"
    }
   ],
   "source": [
    "plt.figure(figsize=(15, 6))\n",
    "plt.bar(x.index, x)\n",
    "plt.show()"
   ],
   "metadata": {
    "collapsed": false,
    "pycharm": {
     "name": "#%%\n"
    }
   }
  },
  {
   "cell_type": "markdown",
   "source": [
    "As you can see here, the version of the Operating System has a high value, because the old OS like 5.0.2, 6.0.1, 7.1.2 show the lowest result. It depends on the optimization of the OS as well as support devices, it is also possible to note the inconstancy of old OSes, since, namely, OSes that are less than version 8, there is a high deviation, which cannot be said about OS versions from 8 and higher, which show very stable results."
   ],
   "metadata": {
    "collapsed": false,
    "pycharm": {
     "name": "#%% md\n"
    }
   }
  },
  {
   "cell_type": "markdown",
   "source": [
    "<h4>Task 1c"
   ],
   "metadata": {
    "collapsed": false,
    "pycharm": {
     "name": "#%% md\n"
    }
   }
  },
  {
   "cell_type": "code",
   "execution_count": 40,
   "outputs": [
    {
     "data": {
      "text/plain": "city\nAberdeen       333.875442\nAbilene        307.559443\nAddison          0.068850\nAfton          796.710953\nAkron         2758.413351\n                 ...     \nYoungstown    1061.229590\nYpsilanti     2963.582979\nYukon         2145.339143\nYuma           150.105681\nZanesville    2508.862569\nName: eCPM, Length: 920, dtype: float64"
     },
     "execution_count": 40,
     "metadata": {},
     "output_type": "execute_result"
    }
   ],
   "source": [
    "x = new_data.groupby('city')['eCPM'].sum()\n",
    "x"
   ],
   "metadata": {
    "collapsed": false,
    "pycharm": {
     "name": "#%%\n"
    }
   }
  },
  {
   "cell_type": "code",
   "execution_count": 41,
   "outputs": [
    {
     "data": {
      "text/plain": "<Figure size 432x288 with 1 Axes>",
      "image/png": "[encoded data removed]"
     },
     "metadata": {
      "needs_background": "light"
     },
     "output_type": "display_data"
    }
   ],
   "source": [
    "plt.boxplot(x)\n",
    "plt.show()"
   ],
   "metadata": {
    "collapsed": false,
    "pycharm": {
     "name": "#%%\n"
    }
   }
  },
  {
   "cell_type": "code",
   "execution_count": 42,
   "outputs": [
    {
     "data": {
      "text/plain": "<Figure size 1080x432 with 1 Axes>",
      "image/png": "[encoded data removed]"
     },
     "metadata": {
      "needs_background": "light"
     },
     "output_type": "display_data"
    }
   ],
   "source": [
    "new_x = x[x >= 15000]\n",
    "plt.figure(figsize=(15, 6))\n",
    "plt.bar(new_x.index, new_x)\n",
    "plt.show()"
   ],
   "metadata": {
    "collapsed": false,
    "pycharm": {
     "name": "#%%\n"
    }
   }
  },
  {
   "cell_type": "markdown",
   "source": [
    "In the statement above, I was mistaken, since the data of the city are the main level of income, since the total data of the city gives from $ 15,000"
   ],
   "metadata": {
    "collapsed": false,
    "pycharm": {
     "name": "#%% md\n"
    }
   }
  },
  {
   "cell_type": "code",
   "execution_count": 46,
   "outputs": [
    {
     "data": {
      "text/plain": "os_version\n10       3.442874e+05\n11       5.814416e+05\n12       1.279285e+06\n5.0.2    5.004156e+02\n6.0.1    1.076227e+03\n7.0      1.193360e+04\n7.1.1    2.690796e+03\n7.1.2    1.154118e+03\n8.0.0    1.369222e+04\n8.1.0    1.424863e+04\n9        1.402219e+05\nName: eCPM, dtype: float64"
     },
     "execution_count": 46,
     "metadata": {},
     "output_type": "execute_result"
    }
   ],
   "source": [
    "x = new_data.groupby('os_version')['eCPM'].sum()\n",
    "x"
   ],
   "metadata": {
    "collapsed": false,
    "pycharm": {
     "name": "#%%\n"
    }
   }
  },
  {
   "cell_type": "code",
   "execution_count": 47,
   "outputs": [
    {
     "data": {
      "text/plain": "<Figure size 1080x432 with 1 Axes>",
      "image/png": "[encoded data removed]"
     },
     "metadata": {
      "needs_background": "light"
     },
     "output_type": "display_data"
    }
   ],
   "source": [
    "plt.figure(figsize=(15, 6))\n",
    "plt.bar(x.index, x)\n",
    "plt.show()"
   ],
   "metadata": {
    "collapsed": false,
    "pycharm": {
     "name": "#%%\n"
    }
   }
  },
  {
   "cell_type": "markdown",
   "source": [
    "The reason that I described above concerned only average values, but now, as we can see, OS versions from 9 give the greatest profit to the company, and the statement above about the average level of earnings was erroneous due to the fact that the number of people and users with this version of the OS is small and the average value because of this they had a high"
   ],
   "metadata": {
    "collapsed": false,
    "pycharm": {
     "name": "#%% md\n"
    }
   }
  },
  {
   "cell_type": "markdown",
   "source": [
    "<h4>As a result, at the end of this research work, we can summarize the fact that the difference between the average value and the sum has a difference and there is no more correct answer either, namely which of the metrics gives the best result, but for this work the metric by amounts showed more correct data, because income there is a main indicator and direction for increasing the same income"
   ],
   "metadata": {
    "collapsed": false,
    "pycharm": {
     "name": "#%% md\n"
    }
   }
  },
  {
   "cell_type": "code",
   "execution_count": 51,
   "outputs": [
    {
     "data": {
      "text/plain": "<Figure size 1080x432 with 1 Axes>",
      "image/png": "[encoded data removed]"
     },
     "metadata": {
      "needs_background": "light"
     },
     "output_type": "display_data"
    }
   ],
   "source": [
    "x = new_data.groupby('city')['eCPM'].sum()\n",
    "new_x = x[x >= 15000]\n",
    "value = (new_x / sum(x)) * 100\n",
    "plt.figure(figsize=(15, 6))\n",
    "plt.bar(new_x.index, value)\n",
    "plt.show()"
   ],
   "metadata": {
    "collapsed": false,
    "pycharm": {
     "name": "#%%\n"
    }
   }
  },
  {
   "cell_type": "markdown",
   "source": [
    "These cities also provide more than 100 percent of the company's profits."
   ],
   "metadata": {
    "collapsed": false,
    "pycharm": {
     "name": "#%% md\n"
    }
   }
  },
  {
   "cell_type": "code",
   "execution_count": 56,
   "outputs": [
    {
     "data": {
      "text/plain": "                         event_timestamp      eCPM  event_receive_timestamp\nevent_timestamp                 1.000000 -0.026841                 0.996487\neCPM                           -0.026841  1.000000                -0.026289\nevent_receive_timestamp         0.996487 -0.026289                 1.000000",
      "text/html": "<div>\n<style scoped>\n    .dataframe tbody tr th:only-of-type {\n        vertical-align: middle;\n    }\n\n    .dataframe tbody tr th {\n        vertical-align: top;\n    }\n\n    .dataframe thead th {\n        text-align: right;\n    }\n</style>\n<table border=\"1\" class=\"dataframe\">\n  <thead>\n    <tr style=\"text-align: right;\">\n      <th></th>\n      <th>event_timestamp</th>\n      <th>eCPM</th>\n      <th>event_receive_timestamp</th>\n    </tr>\n  </thead>\n  <tbody>\n    <tr>\n      <th>event_timestamp</th>\n      <td>1.000000</td>\n      <td>-0.026841</td>\n      <td>0.996487</td>\n    </tr>\n    <tr>\n      <th>eCPM</th>\n      <td>-0.026841</td>\n      <td>1.000000</td>\n      <td>-0.026289</td>\n    </tr>\n    <tr>\n      <th>event_receive_timestamp</th>\n      <td>0.996487</td>\n      <td>-0.026289</td>\n      <td>1.000000</td>\n    </tr>\n  </tbody>\n</table>\n</div>"
     },
     "execution_count": 56,
     "metadata": {},
     "output_type": "execute_result"
    }
   ],
   "source": [
    "new_data[['event_timestamp', 'eCPM', 'event_receive_timestamp']].corr(method='pearson')"
   ],
   "metadata": {
    "collapsed": false,
    "pycharm": {
     "name": "#%%\n"
    }
   }
  },
  {
   "cell_type": "markdown",
   "source": [
    "The dependencies of the two data can be determined using correlations, which I applied in the study, as we can see the correlation is quite low and low over time since players can play games at different times, which gives such a low dependence"
   ],
   "metadata": {
    "collapsed": false,
    "pycharm": {
     "name": "#%% md\n"
    }
   }
  }
 ],
 "metadata": {
  "kernelspec": {
   "display_name": "Python 3",
   "language": "python",
   "name": "python3"
  },
  "language_info": {
   "codemirror_mode": {
    "name": "ipython",
    "version": 2
   },
   "file_extension": ".py",
   "mimetype": "text/x-python",
   "name": "python",
   "nbconvert_exporter": "python",
   "pygments_lexer": "ipython2",
   "version": "2.7.6"
  }
 },
 "nbformat": 4,
 "nbformat_minor": 0
}